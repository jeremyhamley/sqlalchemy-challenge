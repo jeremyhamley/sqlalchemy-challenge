{
 "cells": [
  {
   "cell_type": "code",
   "execution_count": 1,
   "metadata": {},
   "outputs": [],
   "source": [
    "%matplotlib inline\n",
    "from matplotlib import style\n",
    "style.use('fivethirtyeight')\n",
    "import matplotlib.pyplot as plt"
   ]
  },
  {
   "cell_type": "code",
   "execution_count": 2,
   "metadata": {},
   "outputs": [],
   "source": [
    "import numpy as np\n",
    "import pandas as pd\n",
    "from scipy import stats\n",
    "from scipy import mean"
   ]
  },
  {
   "cell_type": "code",
   "execution_count": 3,
   "metadata": {},
   "outputs": [],
   "source": [
    "import datetime as dt"
   ]
  },
  {
   "cell_type": "markdown",
   "metadata": {},
   "source": [
    "# Reflect Tables into SQLAlchemy ORM"
   ]
  },
  {
   "cell_type": "code",
   "execution_count": 4,
   "metadata": {},
   "outputs": [],
   "source": [
    "# Python SQL toolkit and Object Relational Mapper\n",
    "import sqlalchemy\n",
    "from sqlalchemy.ext.automap import automap_base\n",
    "from sqlalchemy.orm import Session\n",
    "from sqlalchemy import create_engine, func, desc"
   ]
  },
  {
   "cell_type": "code",
   "execution_count": 5,
   "metadata": {},
   "outputs": [],
   "source": [
    "engine = create_engine(\"sqlite:///Resources/hawaii.sqlite\")\n",
    "connection = engine.connect()\n"
   ]
  },
  {
   "cell_type": "code",
   "execution_count": 6,
   "metadata": {},
   "outputs": [
    {
     "data": {
      "text/plain": [
       "['measurement', 'station']"
      ]
     },
     "execution_count": 6,
     "metadata": {},
     "output_type": "execute_result"
    }
   ],
   "source": [
    "# reflect an existing database into a new model\n",
    "Base = automap_base()\n",
    "Base.prepare(engine, reflect=True)\n",
    "Base.classes.keys()"
   ]
  },
  {
   "cell_type": "code",
   "execution_count": 7,
   "metadata": {},
   "outputs": [
    {
     "data": {
      "text/plain": [
       "['measurement', 'station']"
      ]
     },
     "execution_count": 7,
     "metadata": {},
     "output_type": "execute_result"
    }
   ],
   "source": [
    "# We can view all of the classes that automap found\n",
    "Base.classes.keys()"
   ]
  },
  {
   "cell_type": "code",
   "execution_count": 8,
   "metadata": {},
   "outputs": [],
   "source": [
    "# Save references to each table\n",
    "Station = Base.classes.station\n",
    "Measurement = Base.classes.measurement\n"
   ]
  },
  {
   "cell_type": "code",
   "execution_count": 9,
   "metadata": {},
   "outputs": [],
   "source": [
    "# Create our session (link) from Python to the DB\n",
    "session = Session(engine)\n"
   ]
  },
  {
   "cell_type": "markdown",
   "metadata": {},
   "source": [
    "# Exploratory Climate Analysis"
   ]
  },
  {
   "cell_type": "code",
   "execution_count": 10,
   "metadata": {},
   "outputs": [
    {
     "name": "stdout",
     "output_type": "stream",
     "text": [
      "('2017-08-23',)\n",
      "2016-08-23\n"
     ]
    },
    {
     "data": {
      "text/html": [
       "<div>\n",
       "<style scoped>\n",
       "    .dataframe tbody tr th:only-of-type {\n",
       "        vertical-align: middle;\n",
       "    }\n",
       "\n",
       "    .dataframe tbody tr th {\n",
       "        vertical-align: top;\n",
       "    }\n",
       "\n",
       "    .dataframe thead th {\n",
       "        text-align: right;\n",
       "    }\n",
       "</style>\n",
       "<table border=\"1\" class=\"dataframe\">\n",
       "  <thead>\n",
       "    <tr style=\"text-align: right;\">\n",
       "      <th></th>\n",
       "      <th>Precipitation</th>\n",
       "    </tr>\n",
       "    <tr>\n",
       "      <th>Date</th>\n",
       "      <th></th>\n",
       "    </tr>\n",
       "  </thead>\n",
       "  <tbody>\n",
       "    <tr>\n",
       "      <th>2016-08-23</th>\n",
       "      <td>0.00</td>\n",
       "    </tr>\n",
       "    <tr>\n",
       "      <th>2016-08-23</th>\n",
       "      <td>0.15</td>\n",
       "    </tr>\n",
       "    <tr>\n",
       "      <th>2016-08-23</th>\n",
       "      <td>0.05</td>\n",
       "    </tr>\n",
       "    <tr>\n",
       "      <th>2016-08-23</th>\n",
       "      <td>0.02</td>\n",
       "    </tr>\n",
       "    <tr>\n",
       "      <th>2016-08-23</th>\n",
       "      <td>1.79</td>\n",
       "    </tr>\n",
       "    <tr>\n",
       "      <th>...</th>\n",
       "      <td>...</td>\n",
       "    </tr>\n",
       "    <tr>\n",
       "      <th>2017-08-22</th>\n",
       "      <td>0.50</td>\n",
       "    </tr>\n",
       "    <tr>\n",
       "      <th>2017-08-23</th>\n",
       "      <td>0.00</td>\n",
       "    </tr>\n",
       "    <tr>\n",
       "      <th>2017-08-23</th>\n",
       "      <td>0.00</td>\n",
       "    </tr>\n",
       "    <tr>\n",
       "      <th>2017-08-23</th>\n",
       "      <td>0.08</td>\n",
       "    </tr>\n",
       "    <tr>\n",
       "      <th>2017-08-23</th>\n",
       "      <td>0.45</td>\n",
       "    </tr>\n",
       "  </tbody>\n",
       "</table>\n",
       "<p>2021 rows × 1 columns</p>\n",
       "</div>"
      ],
      "text/plain": [
       "            Precipitation\n",
       "Date                     \n",
       "2016-08-23           0.00\n",
       "2016-08-23           0.15\n",
       "2016-08-23           0.05\n",
       "2016-08-23           0.02\n",
       "2016-08-23           1.79\n",
       "...                   ...\n",
       "2017-08-22           0.50\n",
       "2017-08-23           0.00\n",
       "2017-08-23           0.00\n",
       "2017-08-23           0.08\n",
       "2017-08-23           0.45\n",
       "\n",
       "[2021 rows x 1 columns]"
      ]
     },
     "execution_count": 10,
     "metadata": {},
     "output_type": "execute_result"
    }
   ],
   "source": [
    "#   Design a query to retrieve the last 12 months of precipitation data and plot the results\n",
    "\n",
    "# Calculate the last data point in the database\n",
    "last_date = session.query(Measurement.date).order_by(Measurement.date.desc()).first()\n",
    "print(last_date)\n",
    "# Calculate the date 1 year ago from the last data point in the database\n",
    "first_date = dt.date(2017,8,23) - dt.timedelta(days=365)\n",
    "print(first_date)\n",
    "\n",
    "# Query the last 12 months of precipitation scores and sort by date\n",
    "date_filter = Measurement.date >= '2016-08-23'\n",
    "\n",
    "last_year = session.query(Measurement.date, Measurement.prcp).filter(date_filter).order_by(Measurement.date).all()\n",
    "\n",
    "last_year_date = [date[0] for date in last_year]\n",
    "last_year_prcp = [prcp[1] for prcp in last_year]\n",
    "\n",
    "# Save the query results as a Pandas DataFrame, drop the rows with missing values, and set the index to the date column\n",
    "last_year_prcp_df = pd.DataFrame({\"Date\": last_year_date,\n",
    "                                  \"Precipitation\": last_year_prcp\n",
    "                                 })\n",
    "#drop rows with missing values\n",
    "last_year_prcp_df = last_year_prcp_df.dropna()\n",
    "#convert date from sting to datetime\n",
    "last_year_prcp_df['Date'] = pd.to_datetime(last_year_prcp_df['Date'])\n",
    "#se index to Date\n",
    "last_year_prcp_df = last_year_prcp_df.set_index(\"Date\")\n",
    "# Display the dataframe\n",
    "last_year_prcp_df\n"
   ]
  },
  {
   "cell_type": "code",
   "execution_count": 11,
   "metadata": {},
   "outputs": [
    {
     "data": {
      "image/png": "[encoded data removed]",
      "text/plain": [
       "<Figure size 432x288 with 1 Axes>"
      ]
     },
     "metadata": {},
     "output_type": "display_data"
    }
   ],
   "source": [
    "# Use Pandas Plotting with Matplotlib to plot the data\n",
    "plt.plot(last_year_prcp_df.index,last_year_prcp_df[\"Precipitation\"], label=\"Precipitation\")\n",
    "plt.xticks( rotation=\"45\")\n",
    "plt.title(\"Hawaii Rainfall by Date\")\n",
    "plt.legend(loc=\"upper right\")\n",
    "plt.xlabel(\"Date\")\n",
    "plt.ylabel(\"Inches\")\n",
    "plt.show()\n"
   ]
  },
  {
   "cell_type": "code",
   "execution_count": 12,
   "metadata": {},
   "outputs": [
    {
     "data": {
      "text/html": [
       "<div>\n",
       "<style scoped>\n",
       "    .dataframe tbody tr th:only-of-type {\n",
       "        vertical-align: middle;\n",
       "    }\n",
       "\n",
       "    .dataframe tbody tr th {\n",
       "        vertical-align: top;\n",
       "    }\n",
       "\n",
       "    .dataframe thead th {\n",
       "        text-align: right;\n",
       "    }\n",
       "</style>\n",
       "<table border=\"1\" class=\"dataframe\">\n",
       "  <thead>\n",
       "    <tr style=\"text-align: right;\">\n",
       "      <th></th>\n",
       "      <th>Precipitation in Inches</th>\n",
       "    </tr>\n",
       "    <tr>\n",
       "      <th>Summary Statistic</th>\n",
       "      <th></th>\n",
       "    </tr>\n",
       "  </thead>\n",
       "  <tbody>\n",
       "    <tr>\n",
       "      <th>Precipitation Mean</th>\n",
       "      <td>0.177279</td>\n",
       "    </tr>\n",
       "    <tr>\n",
       "      <th>Precipitation Median</th>\n",
       "      <td>0.020000</td>\n",
       "    </tr>\n",
       "    <tr>\n",
       "      <th>Precipitation Variance</th>\n",
       "      <td>0.212696</td>\n",
       "    </tr>\n",
       "    <tr>\n",
       "      <th>Precipitation Stnd Deviation</th>\n",
       "      <td>0.461190</td>\n",
       "    </tr>\n",
       "    <tr>\n",
       "      <th>Precipitation SEM</th>\n",
       "      <td>0.010259</td>\n",
       "    </tr>\n",
       "  </tbody>\n",
       "</table>\n",
       "</div>"
      ],
      "text/plain": [
       "                              Precipitation in Inches\n",
       "Summary Statistic                                    \n",
       "Precipitation Mean                           0.177279\n",
       "Precipitation Median                         0.020000\n",
       "Precipitation Variance                       0.212696\n",
       "Precipitation Stnd Deviation                 0.461190\n",
       "Precipitation SEM                            0.010259"
      ]
     },
     "execution_count": 12,
     "metadata": {},
     "output_type": "execute_result"
    }
   ],
   "source": [
    "# Use Pandas to calcualte the summary statistics for the precipitation data\n",
    "#create dataframe to display the mean, median, variance, standard deviation, and SEM of the Precipitation\n",
    "summary_stats_df = pd.DataFrame({\"Summary Statistic\": [\"Precipitation Mean\", \"Precipitation Median\", \"Precipitation Variance\", \"Precipitation Stnd Deviation\", \"Precipitation SEM\"],\n",
    "                                 \"Precipitation in Inches\": [last_year_prcp_df[\"Precipitation\"].mean(),\n",
    "                                                        last_year_prcp_df[\"Precipitation\"].median(),\n",
    "                                                        last_year_prcp_df[\"Precipitation\"].var(),\n",
    "                                                        last_year_prcp_df[\"Precipitation\"].std(),\n",
    "                                                        last_year_prcp_df[\"Precipitation\"].sem()]\n",
    "                                })\n",
    "#Display the summary statistics table\n",
    "summary_stats_df = summary_stats_df.set_index(\"Summary Statistic\")\n",
    "summary_stats_df\n"
   ]
  },
  {
   "cell_type": "code",
   "execution_count": 13,
   "metadata": {},
   "outputs": [
    {
     "data": {
      "text/plain": [
       "[('USC00519281', 2772),\n",
       " ('USC00519397', 2724),\n",
       " ('USC00513117', 2709),\n",
       " ('USC00519523', 2669),\n",
       " ('USC00516128', 2612),\n",
       " ('USC00514830', 2202),\n",
       " ('USC00511918', 1979),\n",
       " ('USC00517948', 1372),\n",
       " ('USC00518838', 511)]"
      ]
     },
     "execution_count": 13,
     "metadata": {},
     "output_type": "execute_result"
    }
   ],
   "source": [
    "# Design a query to show how many stations are available in this dataset?\n",
    "# What are the most active stations? (i.e. what stations have the most rows)?\n",
    "# List the stations and the observation counts in descending order.\n",
    "\n",
    "session.query((Measurement.station), func.count(Measurement.station).label('station_count')).\\\n",
    "    group_by(Measurement.station).\\\n",
    "    order_by(desc('station_count')).all()\n"
   ]
  },
  {
   "cell_type": "code",
   "execution_count": 14,
   "metadata": {},
   "outputs": [
    {
     "data": {
      "text/html": [
       "<div>\n",
       "<style scoped>\n",
       "    .dataframe tbody tr th:only-of-type {\n",
       "        vertical-align: middle;\n",
       "    }\n",
       "\n",
       "    .dataframe tbody tr th {\n",
       "        vertical-align: top;\n",
       "    }\n",
       "\n",
       "    .dataframe thead th {\n",
       "        text-align: right;\n",
       "    }\n",
       "</style>\n",
       "<table border=\"1\" class=\"dataframe\">\n",
       "  <thead>\n",
       "    <tr style=\"text-align: right;\">\n",
       "      <th></th>\n",
       "      <th>Temperature Statistic</th>\n",
       "      <th>Temperature in (F)</th>\n",
       "    </tr>\n",
       "  </thead>\n",
       "  <tbody>\n",
       "    <tr>\n",
       "      <th>0</th>\n",
       "      <td>Lowest temperature</td>\n",
       "      <td>59.00</td>\n",
       "    </tr>\n",
       "    <tr>\n",
       "      <th>1</th>\n",
       "      <td>Highest temperature</td>\n",
       "      <td>83.00</td>\n",
       "    </tr>\n",
       "    <tr>\n",
       "      <th>2</th>\n",
       "      <td>Average temperature</td>\n",
       "      <td>73.11</td>\n",
       "    </tr>\n",
       "  </tbody>\n",
       "</table>\n",
       "</div>"
      ],
      "text/plain": [
       "  Temperature Statistic  Temperature in (F)\n",
       "0    Lowest temperature               59.00\n",
       "1   Highest temperature               83.00\n",
       "2   Average temperature               73.11"
      ]
     },
     "execution_count": 14,
     "metadata": {},
     "output_type": "execute_result"
    }
   ],
   "source": [
    "# Using the most active station id from the previous query, calculate the lowest temperature recorded, \n",
    "# highest temperature recorded, and average temperature for the last 12 months within the database\n",
    "station_filter = Measurement.station == 'USC00519281'\n",
    "\n",
    "temp_results = session.query(func.min(Measurement.tobs), func.max(Measurement.tobs), func.avg(Measurement.tobs)).\\\n",
    "    filter(station_filter).filter(date_filter).all()\n",
    "\n",
    "min_t= [temp[0] for temp in temp_results]\n",
    "min_t= min_t[0]\n",
    "\n",
    "max_t= [temp[1] for temp in temp_results]\n",
    "max_t= max_t[0]\n",
    "\n",
    "avg_t= [temp[2] for temp in temp_results]\n",
    "avg_t= round(avg_t[0],2)\n",
    "\n",
    "temp_stats_df = pd.DataFrame({\"Temperature Statistic\": [\"Lowest temperature\", \"Highest temperature\", \"Average temperature\"],\n",
    "                                 \"Temperature in (F)\": [min_t, max_t, avg_t]\n",
    "                                })\n",
    "temp_stats_df\n"
   ]
  },
  {
   "cell_type": "code",
   "execution_count": 15,
   "metadata": {},
   "outputs": [
    {
     "data": {
      "image/png": "[encoded data removed]",
      "text/plain": [
       "<Figure size 432x288 with 1 Axes>"
      ]
     },
     "metadata": {},
     "output_type": "display_data"
    }
   ],
   "source": [
    "# Choose the station with the highest number of temperature observations.\n",
    "# Query the last 12 months of temperature observation data for this station and plot the results as a histogram\n",
    "temp_list = []\n",
    "\n",
    "\n",
    "last_year_temp = session.query(Measurement.tobs).filter(station_filter).filter(date_filter).all()\n",
    "for temps in last_year_temp:\n",
    "    temp_list.append(temps[0])\n",
    "\n",
    "plt.hist(temp_list, 12)\n",
    "plt.title('Temperature in Hawaii')\n",
    "plt.xlabel('Temperature (F)')\n",
    "plt.ylabel('Frequency')\n",
    "plt.tight_layout()\n",
    "plt.show()\n"
   ]
  },
  {
   "cell_type": "markdown",
   "metadata": {},
   "source": [
    "## Bonus Challenge Assignment"
   ]
  },
  {
   "cell_type": "code",
   "execution_count": 16,
   "metadata": {},
   "outputs": [
    {
     "name": "stdout",
     "output_type": "stream",
     "text": [
      "The average temperature in Hawaii for June is 74.94(F)\n",
      "The average temperature in Hawaii for December is 71.04(F)\n",
      " \n",
      "The difference in temperatures in Hawaii during June and December are not statistically significant.\n",
      "The null hypothesis cannot be rejected.\n",
      "The T-Test results:  Ttest_indResult(statistic=31.60372399000329, pvalue=3.9025129038616655e-191)\n",
      "\n"
     ]
    }
   ],
   "source": [
    "### Temperature Analysis I  ###\n",
    "\n",
    "# Is there a meaningful difference between the temperature in Hawaii during June and December?\n",
    "# Null hypothesis: There is no significant difference in the temperature in Hawaii in June and December.\n",
    "\n",
    "# Collect all of the temperature measurements for June and for Decamber\n",
    "june_temps = session.query(Measurement.tobs).filter(func.strftime(\"%m\", Measurement.date) == '06').all()\n",
    "all_june_temps = [temp[0] for temp in june_temps]\n",
    "\n",
    "dec_temps = session.query(Measurement.tobs).filter(func.strftime(\"%m\", Measurement.date) == '12').all()\n",
    "all_dec_temps = [temp[0] for temp in dec_temps]\n",
    "\n",
    "# Print the average temperature in June and in December using all stations across all available years in the dataset\n",
    "print(f'The average temperature in Hawaii for June is {round(np.mean(all_june_temps),2)}(F)')\n",
    "print(f'The average temperature in Hawaii for December is {round(np.mean(all_dec_temps),2)}(F)')\n",
    "# Unpaired (independent) t-test\n",
    "# I used the unpaired t-test because the data was taken at different times in various locations.\n",
    "# There were more temperature observations made in June than in December\n",
    "# Null hypothesis: There is no significant difference in the temperature in Hawaii in June and December.\n",
    "print(f''' \n",
    "The difference in temperatures in Hawaii during June and December are not statistically significant.\n",
    "The null hypothesis cannot be rejected.\n",
    "The T-Test results:  {stats.ttest_ind(all_june_temps, all_dec_temps)}\n",
    "''')\n"
   ]
  },
  {
   "cell_type": "code",
   "execution_count": 17,
   "metadata": {},
   "outputs": [],
   "source": [
    "# This function called `calc_temps` will accept start date and end date in the format '%Y-%m-%d' \n",
    "# and return the minimum, average, and maximum temperatures for that range of dates\n",
    "def calc_temps(start_date, end_date):\n",
    "    \"\"\"TMIN, TAVG, and TMAX for a list of dates.\n",
    "    Args:\n",
    "        start_date (string): A date string in the format %Y-%m-%d\n",
    "        end_date (string): A date string in the format %Y-%m-%d\n",
    "    Returns:\n",
    "        TMIN, TAVE, and TMAX\n",
    "    \"\"\"\n",
    "    return session.query(func.min(Measurement.tobs), func.avg(Measurement.tobs), func.max(Measurement.tobs)).\\\n",
    "        filter(Measurement.date >= start_date).filter(Measurement.date <= end_date).all()\n"
   ]
  },
  {
   "cell_type": "code",
   "execution_count": 18,
   "metadata": {},
   "outputs": [
    {
     "name": "stdout",
     "output_type": "stream",
     "text": [
      "62.0 70.34 78.0\n"
     ]
    }
   ],
   "source": [
    "# Use your previous function `calc_temps` to calculate the tmin, tavg, and tmax \n",
    "# for your trip using the previous year's data for those same dates.\n",
    "\n",
    "trip_temp_stats = calc_temps('2017-03-01', '2017-03-10')\n",
    "trip_min_temp = trip_temp_stats[0][0]\n",
    "trip_avg_temp = round(trip_temp_stats[0][1],2)\n",
    "trip_max_temp = trip_temp_stats[0][2]\n",
    "\n",
    "print(trip_min_temp , trip_avg_temp , trip_max_temp)\n"
   ]
  },
  {
   "cell_type": "code",
   "execution_count": 19,
   "metadata": {},
   "outputs": [
    {
     "data": {
      "image/png": "[encoded data removed]",
      "text/plain": [
       "<Figure size 216x504 with 1 Axes>"
      ]
     },
     "metadata": {},
     "output_type": "display_data"
    }
   ],
   "source": [
    "# Plot the results from your previous query as a bar chart. \n",
    "# Use \"Trip Avg Temp\" as your Title\n",
    "# Use the average temperature for the y value\n",
    "# Use the peak-to-peak (tmax-tmin) value as the y error bar (yerr)\n",
    "\n",
    "plt.figure(figsize=(3,7))\n",
    "plt.bar(\"average temp\", trip_avg_temp, color='green', alpha=0.5, yerr = (trip_max_temp - trip_min_temp))\n",
    "plt.grid(color='grey', axis='y', linewidth=1)\n",
    "plt.grid( axis='x', linewidth=0)\n",
    "plt.title(\"Trip Avg Temp\")\n",
    "plt.yticks(np.arange(0, 110, 20))\n",
    "plt.ylabel(\"Temp (F)\")\n",
    "plt.show()\n"
   ]
  },
  {
   "cell_type": "code",
   "execution_count": 20,
   "metadata": {},
   "outputs": [
    {
     "data": {
      "text/html": [
       "<div>\n",
       "<style scoped>\n",
       "    .dataframe tbody tr th:only-of-type {\n",
       "        vertical-align: middle;\n",
       "    }\n",
       "\n",
       "    .dataframe tbody tr th {\n",
       "        vertical-align: top;\n",
       "    }\n",
       "\n",
       "    .dataframe thead th {\n",
       "        text-align: right;\n",
       "    }\n",
       "</style>\n",
       "<table border=\"1\" class=\"dataframe\">\n",
       "  <thead>\n",
       "    <tr style=\"text-align: right;\">\n",
       "      <th></th>\n",
       "      <th>station</th>\n",
       "      <th>name</th>\n",
       "      <th>total_prcp</th>\n",
       "      <th>latitude</th>\n",
       "      <th>longitude</th>\n",
       "      <th>elevation</th>\n",
       "    </tr>\n",
       "  </thead>\n",
       "  <tbody>\n",
       "    <tr>\n",
       "      <th>0</th>\n",
       "      <td>USC00514830</td>\n",
       "      <td>KUALOA RANCH HEADQUARTERS 886.9, HI US</td>\n",
       "      <td>1.75</td>\n",
       "      <td>21.52130</td>\n",
       "      <td>-157.83740</td>\n",
       "      <td>7.0</td>\n",
       "    </tr>\n",
       "    <tr>\n",
       "      <th>1</th>\n",
       "      <td>USC00519523</td>\n",
       "      <td>WAIMANALO EXPERIMENTAL FARM, HI US</td>\n",
       "      <td>2.32</td>\n",
       "      <td>21.33556</td>\n",
       "      <td>-157.71139</td>\n",
       "      <td>19.5</td>\n",
       "    </tr>\n",
       "    <tr>\n",
       "      <th>2</th>\n",
       "      <td>USC00519397</td>\n",
       "      <td>WAIKIKI 717.2, HI US</td>\n",
       "      <td>2.74</td>\n",
       "      <td>21.27160</td>\n",
       "      <td>-157.81680</td>\n",
       "      <td>3.0</td>\n",
       "    </tr>\n",
       "    <tr>\n",
       "      <th>3</th>\n",
       "      <td>USC00517948</td>\n",
       "      <td>PEARL CITY, HI US</td>\n",
       "      <td>2.98</td>\n",
       "      <td>21.39340</td>\n",
       "      <td>-157.97510</td>\n",
       "      <td>11.9</td>\n",
       "    </tr>\n",
       "    <tr>\n",
       "      <th>4</th>\n",
       "      <td>USC00516128</td>\n",
       "      <td>MANOA LYON ARBO 785.2, HI US</td>\n",
       "      <td>3.50</td>\n",
       "      <td>21.33310</td>\n",
       "      <td>-157.80250</td>\n",
       "      <td>152.4</td>\n",
       "    </tr>\n",
       "    <tr>\n",
       "      <th>5</th>\n",
       "      <td>USC00519281</td>\n",
       "      <td>WAIHEE 837.5, HI US</td>\n",
       "      <td>5.39</td>\n",
       "      <td>21.45167</td>\n",
       "      <td>-157.84889</td>\n",
       "      <td>32.9</td>\n",
       "    </tr>\n",
       "    <tr>\n",
       "      <th>6</th>\n",
       "      <td>USC00513117</td>\n",
       "      <td>KANEOHE 838.1, HI US</td>\n",
       "      <td>5.73</td>\n",
       "      <td>21.42340</td>\n",
       "      <td>-157.80150</td>\n",
       "      <td>14.6</td>\n",
       "    </tr>\n",
       "  </tbody>\n",
       "</table>\n",
       "</div>"
      ],
      "text/plain": [
       "       station                                    name  total_prcp  latitude  \\\n",
       "0  USC00514830  KUALOA RANCH HEADQUARTERS 886.9, HI US        1.75  21.52130   \n",
       "1  USC00519523      WAIMANALO EXPERIMENTAL FARM, HI US        2.32  21.33556   \n",
       "2  USC00519397                    WAIKIKI 717.2, HI US        2.74  21.27160   \n",
       "3  USC00517948                       PEARL CITY, HI US        2.98  21.39340   \n",
       "4  USC00516128            MANOA LYON ARBO 785.2, HI US        3.50  21.33310   \n",
       "5  USC00519281                     WAIHEE 837.5, HI US        5.39  21.45167   \n",
       "6  USC00513117                    KANEOHE 838.1, HI US        5.73  21.42340   \n",
       "\n",
       "   longitude  elevation  \n",
       "0 -157.83740        7.0  \n",
       "1 -157.71139       19.5  \n",
       "2 -157.81680        3.0  \n",
       "3 -157.97510       11.9  \n",
       "4 -157.80250      152.4  \n",
       "5 -157.84889       32.9  \n",
       "6 -157.80150       14.6  "
      ]
     },
     "execution_count": 20,
     "metadata": {},
     "output_type": "execute_result"
    }
   ],
   "source": [
    "# Calculate the total amount of rainfall per weather station for your trip dates using the previous year's matching dates.\n",
    "# Sort this in descending order by precipitation amount and list the station, name, latitude, longitude, and elevation\n",
    "\n",
    "precip_per_station_df = pd.read_sql(\n",
    "    ''' \n",
    "    select a.station, b.name, round(sum(a.prcp),2) as total_prcp, b.latitude, b.longitude, b.elevation\n",
    "    from measurement a\n",
    "    join station b\n",
    "        on (a.station = b.station)\n",
    "    where a.date >= '2017-03-01' and a.date <= '2017-03-10'\n",
    "    group by a.station\n",
    "    order by total_prcp\n",
    "    ;\n",
    "    ''',\n",
    "    connection\n",
    "    )\n",
    "precip_per_station_df"
   ]
  },
  {
   "cell_type": "code",
   "execution_count": 21,
   "metadata": {},
   "outputs": [],
   "source": [
    "# Create a query that will calculate the daily normals \n",
    "# (i.e. the averages for tmin, tmax, and tavg for all historic data matching a specific month and day)\n",
    "\n",
    "def daily_normals(date):\n",
    "    \"\"\"Daily Normals.\n",
    "    Args:\n",
    "        date (str): A date string in the format '%m-%d'   \n",
    "    Returns:\n",
    "        A list of tuples containing the daily normals, tmin, tavg, and tmax\n",
    "    \"\"\"\n",
    "    sel = [func.min(Measurement.tobs), func.avg(Measurement.tobs), func.max(Measurement.tobs)]\n",
    "    return session.query(*sel).filter(func.strftime(\"%m-%d\", Measurement.date) == date).all()"
   ]
  },
  {
   "cell_type": "code",
   "execution_count": 22,
   "metadata": {},
   "outputs": [
    {
     "data": {
      "text/plain": [
       "[[(64.0, 70.0327868852459, 76.0)],\n",
       " [(61.0, 70.36666666666666, 78.0)],\n",
       " [(60.0, 70.06896551724138, 78.0)],\n",
       " [(57.0, 69.27272727272727, 77.0)],\n",
       " [(60.0, 67.89090909090909, 76.0)],\n",
       " [(60.0, 69.20338983050847, 76.0)],\n",
       " [(60.0, 69.17241379310344, 78.0)],\n",
       " [(59.0, 68.72413793103448, 78.0)],\n",
       " [(57.0, 68.56140350877193, 75.0)],\n",
       " [(57.0, 69.12280701754386, 75.0)]]"
      ]
     },
     "execution_count": 22,
     "metadata": {},
     "output_type": "execute_result"
    }
   ],
   "source": [
    "# calculate the daily normals for your trip\n",
    "# push each tuple of calculations into a list called `normals`\n",
    "normals = []\n",
    "\n",
    "trip_days = [\"03-01\",\"03-02\",\"03-03\",\"03-04\",\"03-05\",\"03-06\",\"03-07\",\"03-08\",\"03-09\",\"03-10\" ]\n",
    "\n",
    "# Loop through the list of %m-%d strings and calculate the normals for each date\n",
    "for day in trip_days:\n",
    "    normals.append(daily_normals(day))\n",
    "    \n",
    "normals    "
   ]
  },
  {
   "cell_type": "code",
   "execution_count": 23,
   "metadata": {},
   "outputs": [
    {
     "data": {
      "text/html": [
       "<div>\n",
       "<style scoped>\n",
       "    .dataframe tbody tr th:only-of-type {\n",
       "        vertical-align: middle;\n",
       "    }\n",
       "\n",
       "    .dataframe tbody tr th {\n",
       "        vertical-align: top;\n",
       "    }\n",
       "\n",
       "    .dataframe thead th {\n",
       "        text-align: right;\n",
       "    }\n",
       "</style>\n",
       "<table border=\"1\" class=\"dataframe\">\n",
       "  <thead>\n",
       "    <tr style=\"text-align: right;\">\n",
       "      <th></th>\n",
       "      <th>Min Temp</th>\n",
       "      <th>Avg Temp</th>\n",
       "      <th>Max Temp</th>\n",
       "    </tr>\n",
       "    <tr>\n",
       "      <th>Trip Date</th>\n",
       "      <th></th>\n",
       "      <th></th>\n",
       "      <th></th>\n",
       "    </tr>\n",
       "  </thead>\n",
       "  <tbody>\n",
       "    <tr>\n",
       "      <th>2021-03-01</th>\n",
       "      <td>64.0</td>\n",
       "      <td>70.032787</td>\n",
       "      <td>76.0</td>\n",
       "    </tr>\n",
       "    <tr>\n",
       "      <th>2021-03-02</th>\n",
       "      <td>61.0</td>\n",
       "      <td>70.366667</td>\n",
       "      <td>78.0</td>\n",
       "    </tr>\n",
       "    <tr>\n",
       "      <th>2021-03-03</th>\n",
       "      <td>60.0</td>\n",
       "      <td>70.068966</td>\n",
       "      <td>78.0</td>\n",
       "    </tr>\n",
       "    <tr>\n",
       "      <th>2021-03-04</th>\n",
       "      <td>57.0</td>\n",
       "      <td>69.272727</td>\n",
       "      <td>77.0</td>\n",
       "    </tr>\n",
       "    <tr>\n",
       "      <th>2021-03-05</th>\n",
       "      <td>60.0</td>\n",
       "      <td>67.890909</td>\n",
       "      <td>76.0</td>\n",
       "    </tr>\n",
       "    <tr>\n",
       "      <th>2021-03-06</th>\n",
       "      <td>60.0</td>\n",
       "      <td>69.203390</td>\n",
       "      <td>76.0</td>\n",
       "    </tr>\n",
       "    <tr>\n",
       "      <th>2021-03-07</th>\n",
       "      <td>60.0</td>\n",
       "      <td>69.172414</td>\n",
       "      <td>78.0</td>\n",
       "    </tr>\n",
       "    <tr>\n",
       "      <th>2021-03-08</th>\n",
       "      <td>59.0</td>\n",
       "      <td>68.724138</td>\n",
       "      <td>78.0</td>\n",
       "    </tr>\n",
       "    <tr>\n",
       "      <th>2021-03-09</th>\n",
       "      <td>57.0</td>\n",
       "      <td>68.561404</td>\n",
       "      <td>75.0</td>\n",
       "    </tr>\n",
       "    <tr>\n",
       "      <th>2021-03-10</th>\n",
       "      <td>57.0</td>\n",
       "      <td>69.122807</td>\n",
       "      <td>75.0</td>\n",
       "    </tr>\n",
       "  </tbody>\n",
       "</table>\n",
       "</div>"
      ],
      "text/plain": [
       "            Min Temp   Avg Temp  Max Temp\n",
       "Trip Date                                \n",
       "2021-03-01      64.0  70.032787      76.0\n",
       "2021-03-02      61.0  70.366667      78.0\n",
       "2021-03-03      60.0  70.068966      78.0\n",
       "2021-03-04      57.0  69.272727      77.0\n",
       "2021-03-05      60.0  67.890909      76.0\n",
       "2021-03-06      60.0  69.203390      76.0\n",
       "2021-03-07      60.0  69.172414      78.0\n",
       "2021-03-08      59.0  68.724138      78.0\n",
       "2021-03-09      57.0  68.561404      75.0\n",
       "2021-03-10      57.0  69.122807      75.0"
      ]
     },
     "execution_count": 23,
     "metadata": {},
     "output_type": "execute_result"
    }
   ],
   "source": [
    "# Load the previous query results into a Pandas DataFrame and add the `trip_dates` range as the `date` index\n",
    "\n",
    "temp_normals_df = pd.DataFrame({\"Trip Date\": [\"2021-03-01\", \"2021-03-02\", \"2021-03-03\",\"2021-03-04\", \"2021-03-05\",\n",
    "                                              \"2021-03-06\", \"2021-03-07\", \"2021-03-08\",\"2021-03-09\", \"2021-03-10\"],\n",
    "                                \"Min Temp\": [normals[0][0][0], normals[1][0][0], normals[2][0][0], normals[3][0][0], normals[4][0][0],\n",
    "                                             normals[5][0][0], normals[6][0][0], normals[7][0][0], normals[8][0][0],normals[9][0][0]],\n",
    "                                \"Avg Temp\": [normals[0][0][1], normals[1][0][1], normals[2][0][1], normals[3][0][1], normals[4][0][1],\n",
    "                                             normals[5][0][1], normals[6][0][1], normals[7][0][1], normals[8][0][1],normals[9][0][1]],\n",
    "                                \"Max Temp\": [normals[0][0][2], normals[1][0][2], normals[2][0][2], normals[3][0][2], normals[4][0][2],\n",
    "                                             normals[5][0][2], normals[6][0][2], normals[7][0][2], normals[8][0][2],normals[9][0][2]],\n",
    "                                })\n",
    "temp_normals_df = temp_normals_df.set_index(\"Trip Date\")\n",
    "temp_normals_df"
   ]
  },
  {
   "cell_type": "code",
   "execution_count": 24,
   "metadata": {},
   "outputs": [
    {
     "data": {
      "image/png": "[encoded data removed]",
      "text/plain": [
       "<Figure size 432x288 with 1 Axes>"
      ]
     },
     "metadata": {},
     "output_type": "display_data"
    }
   ],
   "source": [
    "# Plot the daily normals as an area plot with `stacked=False`\n",
    "\n",
    "temp_normals_df.plot.area(stacked=False, alpha=.25)\n",
    "plt.xticks( rotation=\"45\")\n",
    "plt.title(\"Predicted Hawaii Temp by Date\")\n",
    "plt.legend(loc=\"lower right\")\n",
    "plt.xlabel(\"Date\")\n",
    "plt.ylabel(\"Temperature (F)\")\n",
    "plt.show()\n"
   ]
  },
  {
   "cell_type": "code",
   "execution_count": 25,
   "metadata": {},
   "outputs": [],
   "source": [
    "\n",
    "#session.close()\n"
   ]
  },
  {
   "cell_type": "code",
   "execution_count": null,
   "metadata": {},
   "outputs": [],
   "source": []
  }
 ],
 "metadata": {
  "kernel_info": {
   "name": "python3"
  },
  "kernelspec": {
   "display_name": "Python [conda env:PythonData] *",
   "language": "python",
   "name": "conda-env-PythonData-py"
  },
  "language_info": {
   "codemirror_mode": {
    "name": "ipython",
    "version": 3
   },
   "file_extension": ".py",
   "mimetype": "text/x-python",
   "name": "python",
   "nbconvert_exporter": "python",
   "pygments_lexer": "ipython3",
   "version": "3.6.10"
  },
  "nteract": {
   "version": "0.12.3"
  },
  "varInspector": {
   "cols": {
    "lenName": 16,
    "lenType": 16,
    "lenVar": 40
   },
   "kernels_config": {
    "python": {
     "delete_cmd_postfix": "",
     "delete_cmd_prefix": "del ",
     "library": "var_list.py",
     "varRefreshCmd": "print(var_dic_list())"
    },
    "r": {
     "delete_cmd_postfix": ") ",
     "delete_cmd_prefix": "rm(",
     "library": "var_list.r",
     "varRefreshCmd": "cat(var_dic_list()) "
    }
   },
   "types_to_exclude": [
    "module",
    "function",
    "builtin_function_or_method",
    "instance",
    "_Feature"
   ],
   "window_display": false
  }
 },
 "nbformat": 4,
 "nbformat_minor": 2
}
